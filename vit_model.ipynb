{
  "cells": [
    {
      "cell_type": "code",
      "execution_count": null,
      "metadata": {
        "id": "RIM_3qgcBYQx"
      },
      "outputs": [],
      "source": [
        "import torch\n",
        "from torch import nn\n",
        "import torch.nn.functional as F\n",
        "import torchvision\n",
        "from torchvision.models import vit_b_16\n",
        "import torchvision.models.vision_transformer as vit\n",
        "import torch.optim as optim\n",
        "\n",
        "import matplotlib.pyplot as plt\n",
        "\n",
        "from tqdm import tqdm\n",
        "\n",
        "import os\n",
        "\n",
        "from torch.utils.data import Dataset\n",
        "from torch.utils.data import DataLoader, WeightedRandomSampler, RandomSampler\n",
        "\n",
        "import numpy as np\n",
        "from google.colab import drive\n",
        "\n",
        "from dataclasses import dataclass\n",
        "\n",
        "import random\n",
        "\n",
        "from sklearn.utils.class_weight import compute_class_weight"
      ]
    },
    {
      "cell_type": "markdown",
      "metadata": {
        "id": "Jra5VLbemYIL"
      },
      "source": [
        "## Hyper-parameters for ViT"
      ]
    },
    {
      "cell_type": "code",
      "execution_count": null,
      "metadata": {
        "id": "FuSdk-roH8ou"
      },
      "outputs": [],
      "source": [
        "num_classes = 7\n",
        "patch_size = 16\n",
        "image_size = 224\n",
        "\n",
        "# tunable hyperparameter:\n",
        "dropout = 0.1\n",
        "attention_dropout = 0.1\n",
        "bs = 64\n",
        "lr = 0.001\n",
        "weight_decay = 0.1\n",
        "betas = (0.9,0.999)\n",
        "epoch = 15\n"
      ]
    },
    {
      "cell_type": "markdown",
      "metadata": {
        "id": "yhUBvzxtX7Vg"
      },
      "source": [
        "# Dataset and Data loader"
      ]
    },
    {
      "cell_type": "code",
      "execution_count": null,
      "metadata": {
        "id": "j9foSUWVb5UI"
      },
      "outputs": [],
      "source": [
        "import torch\n",
        "from PIL import Image\n",
        "from google.colab import drive\n",
        "from torch.utils.data import Dataset, DataLoader\n",
        "import torchvision.transforms as transforms\n",
        "\n",
        "import os\n",
        "import cv2\n",
        "\n",
        "import numpy as np\n",
        "\n",
        "import pandas as pd"
      ]
    },
    {
      "cell_type": "code",
      "execution_count": null,
      "metadata": {
        "colab": {
          "base_uri": "https://localhost:8080/"
        },
        "id": "NVwWK03Gt-EA",
        "outputId": "cc07daf6-011e-41b3-b8ee-58720bc5d9fe"
      },
      "outputs": [
        {
          "output_type": "stream",
          "name": "stdout",
          "text": [
            "Drive already mounted at /content/drive; to attempt to forcibly remount, call drive.mount(\"/content/drive\", force_remount=True).\n"
          ]
        }
      ],
      "source": [
        "drive.mount('/content/drive')\n",
        "config = dict()\n",
        "config['metadata_dir'] = '/content/drive/My Drive/Dataset/HAM10000/HAM10000_metadata.csv'\n",
        "config['image_data_dir'] = '/content/drive/My Drive/Dataset/image_frame/'\n",
        "config['save_data_dir'] = '/content/drive/My Drive/Dataset/save_data/'\n",
        "\n",
        "config['train_data_dir'] = '/content/drive/My Drive/Dataset/HAM10000/data/HAM10000_images_part_2'\n",
        "config['valid_data_dir'] = '/content/drive/My Drive/Dataset/HAM10000/data/HAM10000_images_part_1'\n",
        "\n",
        "# configs:\n",
        "saved_model_name = \"vit_model_frozen_weight+oversample_epoch{}_lr{}.pt\".format(epoch, lr)\n"
      ]
    },
    {
      "cell_type": "markdown",
      "metadata": {
        "id": "97ZYTndcdK11"
      },
      "source": [
        "## Define the image transform module."
      ]
    },
    {
      "cell_type": "code",
      "execution_count": null,
      "metadata": {
        "id": "ZOnG2qzGdSI1"
      },
      "outputs": [],
      "source": [
        "transform = transforms.Compose([\n",
        "    transforms.Resize((image_size, image_size)),\n",
        "    transforms.ToTensor()\n",
        "    ])"
      ]
    },
    {
      "cell_type": "markdown",
      "metadata": {
        "id": "o_NN9bh9eTqB"
      },
      "source": [
        "## Define Customed Dataset"
      ]
    },
    {
      "cell_type": "code",
      "execution_count": null,
      "metadata": {
        "id": "HJWjHpyMejQK"
      },
      "outputs": [],
      "source": [
        "class VitDataset(Dataset):\n",
        "  \"\"\"\n",
        "  A Dataset Loader design for Vision Transformer under PyTorch.\n",
        "  \"\"\"  \n",
        "\n",
        "  def __init__(self, image_dir, label_data_dir, transform=None):\n",
        "\n",
        "    self.img_dir = image_dir\n",
        "    self.label_data_dir = label_data_dir\n",
        "    self.transforms = transform\n",
        "\n",
        "    # list that store the name of all images\n",
        "    self.image_path = os.listdir(image_dir)\n",
        "\n",
        "    # match the image name with its label:\n",
        "    self.label_to_num = self._label_transformer()\n",
        "    self.img_to_label = self._label_image_matcher()\n",
        "\n",
        "    # filter out unknown images:\n",
        "    self.all_imgs = []\n",
        "    for filename in self.image_path:\n",
        "      img_name = filename.split('.')[0]\n",
        "      if img_name in self.img_to_label:\n",
        "        self.all_imgs.append(filename)\n",
        "\n",
        "  def _label_transformer(self):\n",
        "    \"\"\"Transform lesion name (bkl ...) to a integer.\"\"\"\n",
        "    train_metadata = pd.read_csv(self.label_data_dir)\n",
        "    raw_lesion_name = train_metadata['dx']\n",
        "    processed_name = dict()\n",
        "    count = 0\n",
        "    for lesion in raw_lesion_name:\n",
        "      if lesion not in processed_name:\n",
        "        processed_name[lesion] = count\n",
        "        count += 1\n",
        "    return processed_name\n",
        "\n",
        "\n",
        "  def _label_image_matcher(self):\n",
        "    \"\"\"\n",
        "    Match each image with its label.\n",
        "\n",
        "    {'img_011': 0, 'img_012': 2, .....}\n",
        "    \"\"\"\n",
        "    train_metadata = pd.read_csv(self.label_data_dir)\n",
        "    image_ids = list(train_metadata['image_id'])\n",
        "    lesion_ids = list(train_metadata['dx'])\n",
        "\n",
        "    assert len(image_ids) == len(lesion_ids)\n",
        "\n",
        "    finder = dict()\n",
        "\n",
        "    for i in range(len(image_ids)):\n",
        "      if image_ids[i] in finder:\n",
        "        raise Exception('Duplicate Image Exists !')\n",
        "      finder[image_ids[i]] = self.label_to_num[lesion_ids[i]]\n",
        "\n",
        "    return finder\n",
        "\n",
        "\n",
        "  def __len__(self):\n",
        "    return len(self.all_imgs)\n",
        "\n",
        "\n",
        "  def __getitem__(self, index):\n",
        "\n",
        "    total_num = self.__len__()\n",
        "\n",
        "    assert index < total_num\n",
        "\n",
        "    img_name = self.all_imgs[index]\n",
        "\n",
        "    image_dir = os.path.join(self.img_dir, img_name)\n",
        "\n",
        "    image = Image.open(image_dir)\n",
        "\n",
        "    label = self.img_to_label[img_name.split('.')[0]]\n",
        "\n",
        "    if self.transforms is not None:\n",
        "      image = self.transforms(image)\n",
        "\n",
        "    return image, label\n",
        "\n",
        "  def _split_train_valid(self, train_portion):\n",
        "      \"\"\"\n",
        "      Split the data into: \n",
        "        - train_portion% of training\n",
        "        - (1-train_portion) of validation\n",
        "      \"\"\"\n",
        "      assert train_portion < 1\n",
        "\n",
        "      temp_imgID_leision_finder = self._label_image_matcher()\n",
        "      \n",
        "      full_info = {0: [], 1: [], 2:[], 3: [], 4: [], 5: [], 6: []}\n",
        "\n",
        "      train_image_idx = []\n",
        "      valid_image_idx = []\n",
        "\n",
        "      for image_id in temp_imgID_leision_finder:\n",
        "\n",
        "        lesion = temp_imgID_leision_finder[image_id]\n",
        "        \n",
        "        full_info[lesion].append(image_id)\n",
        "\n",
        "\n",
        "      for lesion in full_info:\n",
        "\n",
        "        lesion_images = full_info[lesion]\n",
        "\n",
        "        full_len = len(lesion_images)\n",
        "        train_len = int(np.floor(train_portion * full_len))\n",
        "\n",
        "        train_image_idx += lesion_images[0:train_len + 1]\n",
        "        valid_image_idx += lesion_images[train_len + 1:]\n",
        "\n",
        "        assert len(lesion_images[0:train_len + 1]) + \\\n",
        "        len(lesion_images[train_len + 1:]) == full_len\n",
        "\n",
        "      random.shuffle(train_image_idx)\n",
        "      random.shuffle(valid_image_idx)\n",
        "\n",
        "      return train_image_idx, valid_image_idx\n",
        "\n",
        "  def get_label(self, index):\n",
        "    \n",
        "    total_num = self.__len__()\n",
        "    assert index < total_num\n",
        "\n",
        "    img_name = self.all_imgs[index]\n",
        "    label = self.img_to_label[img_name.split('.')[0]]\n",
        "    return label\n",
        "\n",
        "  def get_all_labels(self):\n",
        "    all_labels = []\n",
        "    for img_name in self.all_imgs:\n",
        "      label = self.img_to_label[img_name.split('.')[0]]\n",
        "      all_labels.append(label)\n",
        "    return np.array(all_labels)\n"
      ]
    },
    {
      "cell_type": "markdown",
      "source": [
        "## Split training and validation data"
      ],
      "metadata": {
        "id": "3XsxNULUYXEm"
      }
    },
    {
      "cell_type": "code",
      "source": [
        "all_data = VitDataset(config['image_data_dir'], config['metadata_dir'], transform)\n",
        "training_data, validation_data = torch.utils.data.random_split(all_data, [0.85, 0.15])"
      ],
      "metadata": {
        "id": "5rfZquxOKDye"
      },
      "execution_count": null,
      "outputs": []
    },
    {
      "cell_type": "code",
      "execution_count": null,
      "metadata": {
        "colab": {
          "base_uri": "https://localhost:8080/"
        },
        "id": "ckZ2iwKxo6tE",
        "outputId": "be652414-3915-4da3-fb39-6e9530f993d9"
      },
      "outputs": [
        {
          "output_type": "stream",
          "name": "stdout",
          "text": [
            "8513\n",
            "1502\n"
          ]
        }
      ],
      "source": [
        "print(len(training_data))\n",
        "print(len(validation_data))"
      ]
    },
    {
      "cell_type": "markdown",
      "metadata": {
        "id": "-NMgSeivma_Q"
      },
      "source": [
        "# ViT Model Structure"
      ]
    },
    {
      "cell_type": "code",
      "execution_count": null,
      "metadata": {
        "id": "JRxLzajqf0Ha"
      },
      "outputs": [],
      "source": [
        "class SkinCancerViT(nn.Module):\n",
        "  def __init__(\n",
        "      self,\n",
        "      num_classes: int,\n",
        "      image_size=image_size,\n",
        "      patch_size=patch_size,\n",
        "      ):\n",
        "    super().__init__()\n",
        "    self.image_size = image_size\n",
        "    self.patch_size = patch_size\n",
        "\n",
        "    self.pretrained_model = vit_b_16(weights=vit.ViT_B_16_Weights.IMAGENET1K_V1, dropout=dropout, attention_dropout=attention_dropout)\n",
        "\n",
        "    self.heads = nn.Sequential(\n",
        "        nn.Linear(self.pretrained_model.hidden_dim, num_classes),\n",
        "    )\n",
        "    \n",
        "    # freezing ImageNet pre-trained weights\n",
        "    for param in self.pretrained_model.parameters():\n",
        "      param.requires_grad = False\n",
        "\n",
        "  def _process_input(self, x):\n",
        "    x = self.pretrained_model._process_input(x)\n",
        "    return x\n",
        "\n",
        "  def forward(self, x):\n",
        "    # Reshape and permute the input tensor\n",
        "    x = self._process_input(x)\n",
        "    n = x.shape[0]\n",
        "\n",
        "    # Expand the class token to the full batch\n",
        "    batch_class_token = self.pretrained_model.class_token.expand(n, -1, -1)\n",
        "    x = torch.cat([batch_class_token, x], dim=1)\n",
        "\n",
        "    x = self.pretrained_model.encoder(x)\n",
        "\n",
        "    # Classifier \"token\" as used by standard language architectures\n",
        "    x = x[:, 0]\n",
        "\n",
        "    x = self.heads(x)\n",
        "    \n",
        "    return x\n",
        "\n"
      ]
    },
    {
      "cell_type": "code",
      "execution_count": null,
      "metadata": {
        "id": "g8SOtmScbCjj"
      },
      "outputs": [],
      "source": [
        "vit_model = SkinCancerViT(num_classes)"
      ]
    },
    {
      "cell_type": "markdown",
      "source": [
        "# Training ViT"
      ],
      "metadata": {
        "id": "MImn5YUXZIxd"
      }
    },
    {
      "cell_type": "markdown",
      "metadata": {
        "id": "R0YRTOpAkdnH"
      },
      "source": [
        "## Training Loop"
      ]
    },
    {
      "cell_type": "code",
      "source": [
        "class FocalLoss(nn.Module):\n",
        "  def __init__(self, alpha, gamma, weights=None, reduction='mean'):\n",
        "    super(FocalLoss, self).__init__()\n",
        "    self.alpha = alpha\n",
        "    self.gamma = gamma\n",
        "    self.reduction = reduction\n",
        "    self.weights = weights\n",
        "\n",
        "  def forward(self, inputs, targets):\n",
        "    ce_loss = F.cross_entropy(inputs, targets, reduction='none')\n",
        "    pt = torch.exp(-ce_loss)\n",
        "\n",
        "    focal_loss = self.alpha * (1 - pt) ** (self.gamma) * ce_loss\n",
        "\n",
        "    if self.reduction == 'mean':\n",
        "      return focal_loss.mean(dim=-1)\n",
        "    elif self.reduction == 'sum':\n",
        "      return focal_loss.sum(dim=-1)\n",
        "    else:\n",
        "      return focal_loss"
      ],
      "metadata": {
        "id": "R_YF3YgD8zPH"
      },
      "execution_count": null,
      "outputs": []
    },
    {
      "cell_type": "code",
      "execution_count": null,
      "metadata": {
        "id": "GoiFrSDW19r-"
      },
      "outputs": [],
      "source": [
        "def train(model, trainloader, validation_data, weight=None):\n",
        "  device = torch.device('cuda' if torch.cuda.is_available() else 'cpu')\n",
        "  print(\"Training on {}\".format(device))\n",
        "\n",
        "  # criterion = torch.nn.CrossEntropyLoss(weight=weight).to(device)\n",
        "  criterion = FocalLoss(alpha=0.25, gamma=2, weights=weight)\n",
        "  optimizer = optim.Adam(model.parameters(), lr=lr, betas=betas, weight_decay=weight_decay)\n",
        "\n",
        "  model.to(device)\n",
        "  train_losses = []\n",
        "  valid_losses = []\n",
        "  train_accs = []\n",
        "  valid_accs = []\n",
        "\n",
        "  cur_best_acc = 0\n",
        "  for ep in range(epoch):\n",
        "    model.train()\n",
        "    train_loss = 0\n",
        "    acc_train = 0\n",
        "    train_total = 0\n",
        "    for (img, label) in tqdm(trainloader):\n",
        "      img = img.to(device)\n",
        "      label = label.to(device)\n",
        "\n",
        "      optimizer.zero_grad()\n",
        "      \n",
        "      logits = model(img)\n",
        "      # print(\"\\n\")\n",
        "      # print(logits)\n",
        "      # print(label)\n",
        "\n",
        "      loss = criterion(logits, label)\n",
        "      loss.backward()\n",
        "      optimizer.step()\n",
        "\n",
        "      # calculate training accuracy/loss\n",
        "      batch_size = img.shape[0]\n",
        "      train_loss += loss.item() * batch_size\n",
        "      pred_train = torch.argmax(logits, dim=1).squeeze()\n",
        "      acc_train += (pred_train == label).sum()\n",
        "      train_total += batch_size\n",
        "\n",
        "    # add training loss/acc\n",
        "    train_loss = (train_loss/train_total)\n",
        "    acc_train = (acc_train/train_total).cpu()\n",
        "    train_losses.append(train_loss)\n",
        "    train_accs.append(acc_train)\n",
        "\n",
        "    with torch.no_grad():\n",
        "      model.eval()\n",
        "      valid_loss = 0\n",
        "      acc_valid = 0\n",
        "      valid_total = 0\n",
        "      for (img, label) in tqdm(validation_data):\n",
        "        img = img.to(device)\n",
        "        label = label.to(device)\n",
        "        logits = model(img)\n",
        "        batch_size = img.shape[0]\n",
        "\n",
        "        # calculate validation accuracy/loss\n",
        "        valid_total += batch_size\n",
        "        valid_loss += criterion(logits, label).item()*batch_size\n",
        "        pred_valid = torch.argmax(logits, dim=1).squeeze()\n",
        "        acc_valid += (pred_valid == label).sum()\n",
        "        \n",
        "\n",
        "      # add validation loss\n",
        "      valid_loss = (valid_loss/valid_total)\n",
        "      acc_valid = (acc_valid/valid_total).cpu()\n",
        "      valid_losses.append(valid_loss)\n",
        "      valid_accs.append(acc_valid)\n",
        "\n",
        "      print((\"Epoch {}: Training Loss {}; Validation Loss: {};\\n\" \n",
        "            + \"Training Accuracy: {}; Validation Accuracy: {}\").format(\n",
        "                                                            ep+1, \n",
        "                                                            train_loss,\n",
        "                                                            valid_loss,\n",
        "                                                            acc_train,\n",
        "                                                            acc_valid\n",
        "                                                            ))\n",
        "      # save the model with lowest validation loss\n",
        "      if acc_valid > cur_best_acc:\n",
        "        torch.save(model.state_dict(), config['save_data_dir'] + saved_model_name)\n",
        "        print(\"Current model weights saved.\")\n",
        "        cur_best_acc = acc_valid\n",
        "\n",
        "\n",
        "  return train_losses, valid_losses, train_accs, valid_accs"
      ]
    },
    {
      "cell_type": "markdown",
      "source": [
        "## Calculate class weights to deal with class imbalance"
      ],
      "metadata": {
        "id": "2ATJjpN9Yr2H"
      }
    },
    {
      "cell_type": "code",
      "execution_count": null,
      "metadata": {
        "id": "8xg6USiaZIIm",
        "colab": {
          "base_uri": "https://localhost:8080/"
        },
        "outputId": "061fde40-4950-4ad6-a095-f3c4be8c1f03"
      },
      "outputs": [
        {
          "output_type": "stream",
          "name": "stderr",
          "text": [
            "100%|██████████| 134/134 [02:06<00:00,  1.06it/s]"
          ]
        },
        {
          "output_type": "stream",
          "name": "stdout",
          "text": [
            "torch.Size([8513])\n",
            "tensor([1, 1, 1,  ..., 1, 0, 1])\n"
          ]
        },
        {
          "output_type": "stream",
          "name": "stderr",
          "text": [
            "\n"
          ]
        }
      ],
      "source": [
        "all_labels = None\n",
        "for _, label in tqdm(DataLoader(training_data, batch_size=bs)):\n",
        "  if all_labels is None:\n",
        "    all_labels = label\n",
        "  else:\n",
        "    all_labels = torch.cat((all_labels, label), dim=0)\n",
        "print(all_labels.shape)\n",
        "print(all_labels)"
      ]
    },
    {
      "cell_type": "code",
      "source": [
        "class_weights = compute_class_weight(class_weight='balanced', classes=np.unique(all_labels), y=all_labels.numpy())\n",
        "class_weights = torch.tensor(class_weights).float()\n",
        "class_weights"
      ],
      "metadata": {
        "colab": {
          "base_uri": "https://localhost:8080/"
        },
        "id": "yfcdUEI2Kywl",
        "outputId": "7f76da0d-84e0-4f53-92d5-801c5ebac42d"
      },
      "execution_count": null,
      "outputs": [
        {
          "output_type": "execute_result",
          "data": {
            "text/plain": [
              "tensor([ 1.2951,  0.2134, 11.5823,  1.2965, 10.4840,  2.8022,  4.3279])"
            ]
          },
          "metadata": {},
          "execution_count": 130
        }
      ]
    },
    {
      "cell_type": "markdown",
      "source": [
        "## Oversampler to deal with class imbalance"
      ],
      "metadata": {
        "id": "VWACkP7wYz8a"
      }
    },
    {
      "cell_type": "code",
      "execution_count": null,
      "metadata": {
        "id": "dn2CK3IeoiLN"
      },
      "outputs": [],
      "source": [
        "sample_weights = class_weights[all_labels]\n",
        "oversampler = WeightedRandomSampler(sample_weights, len(sample_weights), replacement=True)\n",
        "\n",
        "# oversampler = RandomSampler(training_data)"
      ]
    },
    {
      "cell_type": "markdown",
      "metadata": {
        "id": "B5TZiv12mW8G"
      },
      "source": [
        "## Run the training loop"
      ]
    },
    {
      "cell_type": "code",
      "execution_count": null,
      "metadata": {
        "colab": {
          "base_uri": "https://localhost:8080/"
        },
        "id": "5ofh_pl0wMOC",
        "outputId": "ee0e0f29-dd15-4858-97a5-a231a35cc999"
      },
      "outputs": [
        {
          "output_type": "stream",
          "name": "stdout",
          "text": [
            "Training on cuda\n"
          ]
        },
        {
          "output_type": "stream",
          "name": "stderr",
          "text": [
            "100%|██████████| 134/134 [03:40<00:00,  1.65s/it]\n",
            "100%|██████████| 24/24 [00:36<00:00,  1.50s/it]\n"
          ]
        },
        {
          "output_type": "stream",
          "name": "stdout",
          "text": [
            "Epoch 1: Training Loss 0.2815956784086034; Validation Loss: 0.2810780453618452;\n",
            "Training Accuracy: 0.385528028011322; Validation Accuracy: 0.22902795672416687\n",
            "Current model weights saved.\n"
          ]
        },
        {
          "output_type": "stream",
          "name": "stderr",
          "text": [
            "100%|██████████| 134/134 [03:39<00:00,  1.64s/it]\n",
            "100%|██████████| 24/24 [00:36<00:00,  1.51s/it]\n"
          ]
        },
        {
          "output_type": "stream",
          "name": "stdout",
          "text": [
            "Epoch 2: Training Loss 0.25869326787956676; Validation Loss: 0.2771920608220183;\n",
            "Training Accuracy: 0.4370962083339691; Validation Accuracy: 0.27962714433670044\n",
            "Current model weights saved.\n"
          ]
        },
        {
          "output_type": "stream",
          "name": "stderr",
          "text": [
            "100%|██████████| 134/134 [03:39<00:00,  1.64s/it]\n",
            "100%|██████████| 24/24 [00:35<00:00,  1.50s/it]\n"
          ]
        },
        {
          "output_type": "stream",
          "name": "stdout",
          "text": [
            "Epoch 3: Training Loss 0.258639880097964; Validation Loss: 0.24000328330796822;\n",
            "Training Accuracy: 0.4361564815044403; Validation Accuracy: 0.31557920575141907\n",
            "Current model weights saved.\n"
          ]
        },
        {
          "output_type": "stream",
          "name": "stderr",
          "text": [
            "100%|██████████| 134/134 [03:39<00:00,  1.64s/it]\n",
            "100%|██████████| 24/24 [00:36<00:00,  1.50s/it]\n"
          ]
        },
        {
          "output_type": "stream",
          "name": "stdout",
          "text": [
            "Epoch 4: Training Loss 0.26038851934406043; Validation Loss: 0.2199317916890435;\n",
            "Training Accuracy: 0.43932807445526123; Validation Accuracy: 0.40213048458099365\n",
            "Current model weights saved.\n"
          ]
        },
        {
          "output_type": "stream",
          "name": "stderr",
          "text": [
            "100%|██████████| 134/134 [03:39<00:00,  1.64s/it]\n",
            "100%|██████████| 24/24 [00:35<00:00,  1.49s/it]\n"
          ]
        },
        {
          "output_type": "stream",
          "name": "stdout",
          "text": [
            "Epoch 5: Training Loss 0.2572103750915067; Validation Loss: 0.21061011353202572;\n",
            "Training Accuracy: 0.4376835525035858; Validation Accuracy: 0.49667108058929443\n",
            "Current model weights saved.\n"
          ]
        },
        {
          "output_type": "stream",
          "name": "stderr",
          "text": [
            "100%|██████████| 134/134 [03:39<00:00,  1.64s/it]\n",
            "100%|██████████| 24/24 [00:36<00:00,  1.51s/it]\n"
          ]
        },
        {
          "output_type": "stream",
          "name": "stdout",
          "text": [
            "Epoch 6: Training Loss 0.2601919421771012; Validation Loss: 0.21678484738190545;\n",
            "Training Accuracy: 0.4347468614578247; Validation Accuracy: 0.42343538999557495\n"
          ]
        },
        {
          "output_type": "stream",
          "name": "stderr",
          "text": [
            "100%|██████████| 134/134 [03:39<00:00,  1.64s/it]\n",
            "100%|██████████| 24/24 [00:36<00:00,  1.51s/it]\n"
          ]
        },
        {
          "output_type": "stream",
          "name": "stdout",
          "text": [
            "Epoch 7: Training Loss 0.26077557838538634; Validation Loss: 0.24358607513133124;\n",
            "Training Accuracy: 0.431105375289917; Validation Accuracy: 0.33288946747779846\n"
          ]
        },
        {
          "output_type": "stream",
          "name": "stderr",
          "text": [
            "100%|██████████| 134/134 [03:38<00:00,  1.63s/it]\n",
            "100%|██████████| 24/24 [00:36<00:00,  1.50s/it]\n"
          ]
        },
        {
          "output_type": "stream",
          "name": "stdout",
          "text": [
            "Epoch 8: Training Loss 0.2598000935003254; Validation Loss: 0.2312577447386461;\n",
            "Training Accuracy: 0.4296957552433014; Validation Accuracy: 0.378828227519989\n"
          ]
        },
        {
          "output_type": "stream",
          "name": "stderr",
          "text": [
            "100%|██████████| 134/134 [03:38<00:00,  1.63s/it]\n",
            "100%|██████████| 24/24 [00:35<00:00,  1.49s/it]\n"
          ]
        },
        {
          "output_type": "stream",
          "name": "stdout",
          "text": [
            "Epoch 9: Training Loss 0.25826515153559787; Validation Loss: 0.23688566077565068;\n",
            "Training Accuracy: 0.44214731454849243; Validation Accuracy: 0.368175745010376\n"
          ]
        },
        {
          "output_type": "stream",
          "name": "stderr",
          "text": [
            "100%|██████████| 134/134 [03:38<00:00,  1.63s/it]\n",
            "100%|██████████| 24/24 [00:36<00:00,  1.51s/it]\n"
          ]
        },
        {
          "output_type": "stream",
          "name": "stdout",
          "text": [
            "Epoch 10: Training Loss 0.2589820036663511; Validation Loss: 0.24006817820227733;\n",
            "Training Accuracy: 0.4378010034561157; Validation Accuracy: 0.35419440269470215\n"
          ]
        },
        {
          "output_type": "stream",
          "name": "stderr",
          "text": [
            "100%|██████████| 134/134 [03:39<00:00,  1.63s/it]\n",
            "100%|██████████| 24/24 [00:35<00:00,  1.49s/it]\n"
          ]
        },
        {
          "output_type": "stream",
          "name": "stdout",
          "text": [
            "Epoch 11: Training Loss 0.2601748472422057; Validation Loss: 0.22291894501122272;\n",
            "Training Accuracy: 0.4264066815376282; Validation Accuracy: 0.3688415288925171\n"
          ]
        },
        {
          "output_type": "stream",
          "name": "stderr",
          "text": [
            "100%|██████████| 134/134 [03:38<00:00,  1.63s/it]\n",
            "100%|██████████| 24/24 [00:35<00:00,  1.49s/it]\n"
          ]
        },
        {
          "output_type": "stream",
          "name": "stdout",
          "text": [
            "Epoch 12: Training Loss 0.26062505133953273; Validation Loss: 0.2262349620798774;\n",
            "Training Accuracy: 0.4316927194595337; Validation Accuracy: 0.4354194104671478\n"
          ]
        },
        {
          "output_type": "stream",
          "name": "stderr",
          "text": [
            "100%|██████████| 134/134 [03:38<00:00,  1.63s/it]\n",
            "100%|██████████| 24/24 [00:35<00:00,  1.49s/it]\n"
          ]
        },
        {
          "output_type": "stream",
          "name": "stdout",
          "text": [
            "Epoch 13: Training Loss 0.2627472781825539; Validation Loss: 0.27712212465257047;\n",
            "Training Accuracy: 0.41747915744781494; Validation Accuracy: 0.24900132417678833\n"
          ]
        },
        {
          "output_type": "stream",
          "name": "stderr",
          "text": [
            "100%|██████████| 134/134 [03:39<00:00,  1.63s/it]\n",
            "100%|██████████| 24/24 [00:36<00:00,  1.50s/it]\n"
          ]
        },
        {
          "output_type": "stream",
          "name": "stdout",
          "text": [
            "Epoch 14: Training Loss 0.25905679815015487; Validation Loss: 0.27216967269679043;\n",
            "Training Accuracy: 0.4313403069972992; Validation Accuracy: 0.2476697564125061\n"
          ]
        },
        {
          "output_type": "stream",
          "name": "stderr",
          "text": [
            "100%|██████████| 134/134 [03:38<00:00,  1.63s/it]\n",
            "100%|██████████| 24/24 [00:36<00:00,  1.50s/it]"
          ]
        },
        {
          "output_type": "stream",
          "name": "stdout",
          "text": [
            "Epoch 15: Training Loss 0.2570481872612506; Validation Loss: 0.2307037517091088;\n",
            "Training Accuracy: 0.44531893730163574; Validation Accuracy: 0.3701730966567993\n"
          ]
        },
        {
          "output_type": "stream",
          "name": "stderr",
          "text": [
            "\n"
          ]
        }
      ],
      "source": [
        "train_losses, valid_losses, train_accs, valid_accs = train(vit_model,\n",
        "                                                            DataLoader(training_data, batch_size=bs, sampler=oversampler),\n",
        "                                                            DataLoader(validation_data, batch_size=bs),\n",
        "                                                           weight=class_weights)\n"
      ]
    },
    {
      "cell_type": "code",
      "execution_count": null,
      "metadata": {
        "id": "3DgDKCh6BWxG",
        "colab": {
          "base_uri": "https://localhost:8080/",
          "height": 388
        },
        "outputId": "4ad0ad10-e4b6-4662-dd0e-da1c8c36f3a3"
      },
      "outputs": [
        {
          "output_type": "display_data",
          "data": {
            "text/plain": [
              "<Figure size 1200x400 with 2 Axes>"
            ],
            "image/png": "[encoded data removed]"
          },
          "metadata": {}
        }
      ],
      "source": [
        "plt.figure(figsize=(12, 4))\n",
        "plt.subplot(1, 2, 1)\n",
        "plt.plot(train_accs, label='Train Accuracy')\n",
        "plt.plot(valid_accs, label='Validation Accuracy')\n",
        "plt.xlabel('Epochs')\n",
        "plt.ylabel('Accuracy')\n",
        "plt.legend()\n",
        "\n",
        "plt.subplot(1, 2, 2)\n",
        "plt.plot(train_losses, label='Train Loss')\n",
        "plt.plot(valid_losses, label='Validation Loss')\n",
        "plt.xlabel('Epochs')\n",
        "plt.ylabel('Loss')\n",
        "plt.legend()\n",
        "\n",
        "plt.show()"
      ]
    },
    {
      "cell_type": "markdown",
      "metadata": {
        "id": "wTk92CaApdyl"
      },
      "source": [
        "# Evaluating ViT"
      ]
    },
    {
      "cell_type": "code",
      "execution_count": null,
      "metadata": {
        "id": "U5ycPlUmzin_"
      },
      "outputs": [],
      "source": [
        "def test(model, testloader):\n",
        "  device = torch.device('cuda' if torch.cuda.is_available() else 'cpu')\n",
        "  print(\"Testing on {}\".format(device))\n",
        "\n",
        "  model.to(device)\n",
        "  model.eval()\n",
        "\n",
        "  result = None\n",
        "  ground = None\n",
        "  scores = None\n",
        "  with torch.no_grad():\n",
        "    for (img, truth) in tqdm(testloader):\n",
        "      img = img.to(device)\n",
        "      logit = model(img)\n",
        "      prediction = torch.argmax(logit, dim=1)\n",
        "\n",
        "      if result is None:\n",
        "        result = prediction\n",
        "      else:\n",
        "        result = torch.cat((result, prediction),dim=0)\n",
        "      \n",
        "      if ground is None:\n",
        "        ground = truth\n",
        "      else:\n",
        "        ground = torch.cat((ground, truth),dim=0)\n",
        "\n",
        "      normal_logit = torch.softmax(logit, dim=1)\n",
        "      if scores is None:\n",
        "        scores = normal_logit\n",
        "      else:\n",
        "        scores = torch.cat((scores, normal_logit),dim=0)\n",
        "\n",
        "  \n",
        "  return scores.cpu(), result.cpu(), ground"
      ]
    },
    {
      "cell_type": "markdown",
      "source": [
        "## Test data"
      ],
      "metadata": {
        "id": "pbQ5_HZJZvhg"
      }
    },
    {
      "cell_type": "code",
      "source": [
        "class VitTestDataset(VitDataset):\n",
        "  def __init__(self, image_dir, label_data_dir, test_truth_dir, transform=None):\n",
        "    self.test_truth_dir = test_truth_dir\n",
        "    super().__init__(image_dir, label_data_dir, transform)\n",
        "\n",
        "  def _label_image_matcher(self):\n",
        "    \n",
        "    test_metadata = pd.read_csv(self.test_truth_dir)\n",
        "    image_ids = list(test_metadata['image'])\n",
        "\n",
        "    lesion_ids = [None] * len(image_ids)\n",
        "\n",
        "\n",
        "    # lesion_ids = list(test_metadata['dx'])\n",
        "\n",
        "    assert len(image_ids) == len(lesion_ids)\n",
        "\n",
        "    finder = dict()\n",
        "\n",
        "    for i in range(len(image_ids)):\n",
        "      if image_ids[i] in finder:\n",
        "        raise Exception('Duplicate Image Exists !')\n",
        "      for disease, disease_id in self.label_to_num.items():\n",
        "        column = list(test_metadata[disease.upper()])\n",
        "        # print(column)\n",
        "        if column[i] == 1:\n",
        "          finder[image_ids[i]] = disease_id\n",
        "          break\n",
        "\n",
        "    return finder\n"
      ],
      "metadata": {
        "id": "cAw_byFu5-n1"
      },
      "execution_count": null,
      "outputs": []
    },
    {
      "cell_type": "code",
      "source": [
        "config['test_data_dir'] = '/content/drive/My Drive/Dataset/test_data/data/'\n",
        "config['test_truth_dir'] = '/content/drive/My Drive/Dataset/test_data/ISIC2018_Task3_Test_GroundTruth.csv'\n",
        "\n",
        "test_data = VitTestDataset(config['test_data_dir'], config['metadata_dir'], config['test_truth_dir'], transform)"
      ],
      "metadata": {
        "id": "n6aDnS3WZ2UD"
      },
      "execution_count": null,
      "outputs": []
    },
    {
      "cell_type": "markdown",
      "source": [
        "## Run test loop"
      ],
      "metadata": {
        "id": "HA5lauIdZySF"
      }
    },
    {
      "cell_type": "code",
      "execution_count": null,
      "metadata": {
        "id": "ZJzk1QCPnh57",
        "colab": {
          "base_uri": "https://localhost:8080/"
        },
        "outputId": "4c9bde16-c667-447c-ad59-f582ea7e7241"
      },
      "outputs": [
        {
          "output_type": "stream",
          "name": "stdout",
          "text": [
            "Testing on cuda\n"
          ]
        },
        {
          "output_type": "stream",
          "name": "stderr",
          "text": [
            "100%|██████████| 24/24 [01:50<00:00,  4.59s/it]\n"
          ]
        },
        {
          "output_type": "stream",
          "name": "stdout",
          "text": [
            "tensor([3, 3, 4,  ..., 3, 3, 3])\n"
          ]
        }
      ],
      "source": [
        "# test_data = validation_data\n",
        "# test_data = training_data\n",
        "\n",
        "saved_weight = config['save_data_dir'] + saved_model_name\n",
        "vit_model.load_state_dict(torch.load(saved_weight))\n",
        "\n",
        "scores, result, ground_truth = test(vit_model,\n",
        "              DataLoader(test_data, batch_size=bs))\n",
        "print(result)"
      ]
    },
    {
      "cell_type": "markdown",
      "metadata": {
        "id": "iUV6ec4w2BVY"
      },
      "source": [
        "## Class-level Testing Metrics"
      ]
    },
    {
      "cell_type": "code",
      "execution_count": null,
      "metadata": {
        "id": "F6vYXYbc0B5T"
      },
      "outputs": [],
      "source": [
        "from sklearn.metrics import confusion_matrix, roc_curve, ConfusionMatrixDisplay, roc_auc_score\n",
        "import seaborn as sns"
      ]
    },
    {
      "cell_type": "code",
      "execution_count": null,
      "metadata": {
        "id": "7ZdPx6UQCgSb",
        "colab": {
          "base_uri": "https://localhost:8080/"
        },
        "outputId": "3f5e21e4-ef11-4e68-c406-be207566f49a"
      },
      "outputs": [
        {
          "output_type": "stream",
          "name": "stdout",
          "text": [
            "{'bkl': 0, 'nv': 1, 'df': 2, 'mel': 3, 'vasc': 4, 'bcc': 5, 'akiec': 6}\n"
          ]
        }
      ],
      "source": [
        "num_to_lab = test_data.label_to_num\n",
        "print(num_to_lab)"
      ]
    },
    {
      "cell_type": "markdown",
      "metadata": {
        "id": "G454OeFM3gVS"
      },
      "source": [
        "### Accuracy"
      ]
    },
    {
      "cell_type": "code",
      "execution_count": null,
      "metadata": {
        "id": "UGJTrmIh3jVx",
        "colab": {
          "base_uri": "https://localhost:8080/"
        },
        "outputId": "32f1c6cd-15e3-42c0-b585-441f1ed79253"
      },
      "outputs": [
        {
          "output_type": "execute_result",
          "data": {
            "text/plain": [
              "0.46362432837486267"
            ]
          },
          "metadata": {},
          "execution_count": 29
        }
      ],
      "source": [
        "((result == ground_truth).sum() / len(result)).item()"
      ]
    },
    {
      "cell_type": "markdown",
      "metadata": {
        "id": "XAziPXAkpZ2g"
      },
      "source": [
        "### Confusion Matrix"
      ]
    },
    {
      "cell_type": "code",
      "execution_count": null,
      "metadata": {
        "id": "s4TOku182JoM",
        "colab": {
          "base_uri": "https://localhost:8080/",
          "height": 872
        },
        "outputId": "4c90fd5a-652c-464f-9d7d-7163f93ddef1"
      },
      "outputs": [
        {
          "output_type": "display_data",
          "data": {
            "text/plain": [
              "<Figure size 1000x1000 with 2 Axes>"
            ],
            "image/png": "[encoded data removed]"
          },
          "metadata": {}
        }
      ],
      "source": [
        "conf = confusion_matrix(ground_truth, result)\n",
        "# normalize confusion matrix\n",
        "conf = conf.astype('float') / conf.sum(axis=1)[:, np.newaxis]\n",
        "\n",
        "plt.figure(figsize=(10, 10))\n",
        "sns.heatmap(conf, annot=True, fmt=\".2f\", cmap=\"YlGnBu\", xticklabels=num_to_lab.keys(), yticklabels=num_to_lab.keys())\n",
        "# ConfusionMatrixDisplay(conf, display_labels=num_to_lab).plot()\n",
        "plt.xlabel(\"Predicted\")\n",
        "plt.ylabel(\"True\")\n",
        "plt.title(\"Normalized Confusion Matrix\")\n",
        "plt.show()"
      ]
    },
    {
      "cell_type": "markdown",
      "metadata": {
        "id": "FWBeEv7R5QdU"
      },
      "source": [
        "## Two-way Accuracy"
      ]
    },
    {
      "cell_type": "code",
      "execution_count": null,
      "metadata": {
        "id": "HQb423Q05TOz"
      },
      "outputs": [],
      "source": [
        "malignant = ['akiec', 'bcc', 'mel']\n",
        "mal_idx = []\n",
        "benign_idx = []\n",
        "for disease, idx in num_to_lab.items():\n",
        "  if disease in malignant:\n",
        "    mal_idx.append(idx)\n",
        "  else:\n",
        "    benign_idx.append(idx)"
      ]
    },
    {
      "cell_type": "code",
      "source": [
        "def plot_auc_roc_curve(ground_truth, scores, title):\n",
        "  \n",
        "  # get score of benign vs. malignant\n",
        "  benign_score = scores[:, benign_idx].sum(dim=1).squeeze()\n",
        "  mal_score = scores[:, mal_idx].sum(dim=1).squeeze()\n",
        "  # get ground truth for test data\n",
        "  binary_truth = torch.zeros_like(ground_truth)\n",
        "  for i in range(ground_truth.shape[0]):\n",
        "    if ground_truth[i].item() in mal_idx:\n",
        "      binary_truth[i] = 1\n",
        "\n",
        "  fpr, tpr, thresholds = roc_curve(binary_truth, mal_score, pos_label=1)\n",
        "  sensitivity = tpr\n",
        "  specificity = 1 - fpr\n",
        "\n",
        "  auc_score = roc_auc_score(binary_truth, mal_score)\n",
        "\n",
        "  plt.plot(sensitivity, specificity)\n",
        "  plt.xlabel(\"Sensitivity\")\n",
        "  plt.ylabel(\"Specificity\")\n",
        "  plt.title(title)\n",
        "  plt.text(0.5, 0.3, f\"AUC score: {auc_score:.2f}\", ha='center', va='center', bbox=dict(facecolor='white', edgecolor='gray', pad=5.0))\n",
        "  plt.show()\n",
        "\n",
        "  print(\"AUC score is \"+ str(auc_score))\n",
        "\n",
        "  binary_pred = torch.zeros_like(binary_truth)\n",
        "  binary_pred[mal_score >= 0.5] = 1\n",
        "  binary_acc = ((binary_pred == binary_truth).sum() / len(binary_truth)).item()\n",
        "  print(\"Two-way accuracy is \" + str(binary_acc))"
      ],
      "metadata": {
        "id": "XfhrpYGpih5J"
      },
      "execution_count": null,
      "outputs": []
    },
    {
      "cell_type": "markdown",
      "metadata": {
        "id": "-budrv5hmuBt"
      },
      "source": [
        "### Benign vs. Malignant (All samples)"
      ]
    },
    {
      "cell_type": "code",
      "execution_count": null,
      "metadata": {
        "id": "EXVeq2RW502-",
        "colab": {
          "base_uri": "https://localhost:8080/",
          "height": 507
        },
        "outputId": "b4e69190-c8b9-4e01-9943-d4a7a53d290e"
      },
      "outputs": [
        {
          "output_type": "display_data",
          "data": {
            "text/plain": [
              "<Figure size 640x480 with 1 Axes>"
            ],
            "image/png": "[encoded data removed]"
          },
          "metadata": {}
        },
        {
          "output_type": "stream",
          "name": "stdout",
          "text": [
            "AUC score is 0.7771013826753348\n",
            "Two-way accuracy is 0.75\n"
          ]
        }
      ],
      "source": [
        "plot_auc_roc_curve(ground_truth, scores, \"ROC Curve for Malignant (All samples)\")"
      ]
    },
    {
      "cell_type": "markdown",
      "source": [
        "### Melanoma (nv (benign) vs. mel (malignant))"
      ],
      "metadata": {
        "id": "izXn51H2ZjVP"
      }
    },
    {
      "cell_type": "code",
      "execution_count": null,
      "metadata": {
        "id": "ewEo0n2qhC4L",
        "colab": {
          "base_uri": "https://localhost:8080/",
          "height": 507
        },
        "outputId": "7b46d6ac-461b-400b-f118-9d3852b51ed1"
      },
      "outputs": [
        {
          "output_type": "display_data",
          "data": {
            "text/plain": [
              "<Figure size 640x480 with 1 Axes>"
            ],
            "image/png": "[encoded data removed]"
          },
          "metadata": {}
        },
        {
          "output_type": "stream",
          "name": "stdout",
          "text": [
            "AUC score is 0.800757853563134\n",
            "Two-way accuracy is 0.8166666626930237\n"
          ]
        }
      ],
      "source": [
        "mel_nv_indices = np.where((ground_truth == num_to_lab['mel']) | (ground_truth == num_to_lab['nv']))\n",
        "melanoma_true_filtered = ground_truth[mel_nv_indices]\n",
        "melanoma_score_filtered = scores[mel_nv_indices]\n",
        "\n",
        "plot_auc_roc_curve(melanoma_true_filtered, melanoma_score_filtered, \"ROC Curve for Melanoma\")"
      ]
    },
    {
      "cell_type": "markdown",
      "source": [
        "### Carcinoma (bkl (benign) vs. akiec&bcc (malignant)) "
      ],
      "metadata": {
        "id": "S7Dt6gNcgd5k"
      }
    },
    {
      "cell_type": "code",
      "source": [
        "carcinoma_indices = np.where((ground_truth == num_to_lab['bkl']) |\n",
        "                             (ground_truth == num_to_lab['akiec']) |\n",
        "                             (ground_truth == num_to_lab['bcc']))\n",
        "carcinoma_true_filtered = ground_truth[carcinoma_indices]\n",
        "carcinoma_score_filtered = scores[carcinoma_indices]\n",
        "\n",
        "plot_auc_roc_curve(carcinoma_true_filtered, carcinoma_score_filtered, \"ROC Curve for Carcinoma\")"
      ],
      "metadata": {
        "colab": {
          "base_uri": "https://localhost:8080/",
          "height": 507
        },
        "id": "c1Wwm4NehH0G",
        "outputId": "b25e46cb-0ffc-4889-cd4d-3410fa0c7f4f"
      },
      "execution_count": null,
      "outputs": [
        {
          "output_type": "display_data",
          "data": {
            "text/plain": [
              "<Figure size 640x480 with 1 Axes>"
            ],
            "image/png": "[encoded data removed]"
          },
          "metadata": {}
        },
        {
          "output_type": "stream",
          "name": "stdout",
          "text": [
            "AUC score is 0.6142247221469233\n",
            "Two-way accuracy is 0.5524079203605652\n"
          ]
        }
      ]
    }
  ],
  "metadata": {
    "accelerator": "GPU",
    "colab": {
      "machine_shape": "hm",
      "provenance": [],
      "toc_visible": true
    },
    "gpuClass": "standard",
    "kernelspec": {
      "display_name": "Python 3",
      "name": "python3"
    },
    "language_info": {
      "name": "python"
    }
  },
  "nbformat": 4,
  "nbformat_minor": 0
}